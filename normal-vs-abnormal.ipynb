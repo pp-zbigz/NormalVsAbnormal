{
 "cells": [
  {
   "cell_type": "code",
   "execution_count": 38,
   "metadata": {},
   "outputs": [],
   "source": [
    "from tensorflow.keras.preprocessing.image import ImageDataGenerator\n",
    "from tensorflow.keras.applications import VGG16\n",
    "from tensorflow.keras.layers import AveragePooling2D\n",
    "from tensorflow.keras.layers import Dropout\n",
    "from tensorflow.keras.layers import Flatten\n",
    "from tensorflow.keras.layers import Dense\n",
    "from tensorflow.keras.layers import Input\n",
    "from tensorflow.keras.models import Model\n",
    "from tensorflow.keras.optimizers import Adam\n",
    "from tensorflow.keras.utils import to_categorical\n",
    "from sklearn.preprocessing import LabelBinarizer\n",
    "from sklearn.model_selection import train_test_split\n",
    "from sklearn.metrics import classification_report\n",
    "from sklearn.metrics import confusion_matrix\n",
    "from imutils import paths\n",
    "import matplotlib.pyplot as plt\n",
    "import numpy as np\n",
    "import argparse\n",
    "import cv2\n",
    "import os\n",
    "import pandas as pd\n",
    "import tensorflow as tf\n",
    "dataset_home = ''"
   ]
  },
  {
   "cell_type": "code",
   "execution_count": 39,
   "metadata": {},
   "outputs": [
    {
     "name": "stdout",
     "output_type": "stream",
     "text": [
      "Please install GPU version of TF\n"
     ]
    }
   ],
   "source": [
    "if tf.test.gpu_device_name():\n",
    "    print('Default GPU Device:{}'.format(tf.test.gpu_device_name()))\n",
    "else:\n",
    "   print(\"Please install GPU version of TF\")"
   ]
  },
  {
   "cell_type": "code",
   "execution_count": 80,
   "metadata": {},
   "outputs": [],
   "source": [
    "path_train = r\"C:\\Users\\pasuk\\senior-project\\normal-vs-abnormal\\train\"\n",
    "path_test = r\"C:\\Users\\pasuk\\senior-project\\normal-vs-abnormal\\test\"\n",
    "path = r\"C:\\Users\\pasuk\\senior-project\""
   ]
  },
  {
   "cell_type": "code",
   "execution_count": 70,
   "metadata": {},
   "outputs": [
    {
     "name": "stdout",
     "output_type": "stream",
     "text": [
      "Found 9812 images belonging to 2 classes.\n",
      "Found 9613 images belonging to 2 classes.\n",
      "Found 9613 images belonging to 2 classes.\n"
     ]
    }
   ],
   "source": [
    "train_datagen = ImageDataGenerator(\n",
    "    rescale=1./255,\n",
    "    featurewise_center=True,\n",
    "    featurewise_std_normalization=True,\n",
    "    rotation_range=20,\n",
    "    width_shift_range=0.2,\n",
    "    height_shift_range=0.2,\n",
    "    horizontal_flip=True)\n",
    "test_datagen = ImageDataGenerator(rescale=1./255)\n",
    "train_generator = train_datagen.flow_from_directory(\n",
    "        os.path.join(dataset_home, path_train),\n",
    "        target_size=(150, 150),\n",
    "        batch_size=32,\n",
    "        class_mode='binary')\n",
    "validation_generator = test_datagen.flow_from_directory(\n",
    "        os.path.join(dataset_home, path_test),\n",
    "        target_size=(150, 150),\n",
    "        batch_size=32,\n",
    "        class_mode='binary')\n",
    "test_generator = train_datagen.flow_from_directory(\n",
    "        os.path.join(dataset_home, path_test),\n",
    "        target_size=(150, 150),\n",
    "        batch_size=32,\n",
    "        class_mode='binary')"
   ]
  },
  {
   "cell_type": "code",
   "execution_count": 51,
   "metadata": {},
   "outputs": [],
   "source": [
    "class MyModel(tf.keras.Model):\n",
    "\n",
    "  def __init__(self):\n",
    "    super(MyModel, self).__init__()\n",
    "    self.conv1   = tf.keras.layers.Conv2D(16, (3,3), activation='relu', input_shape=(150, 150, 3))\n",
    "    self.mp1     = tf.keras.layers.MaxPool2D(2,2)\n",
    "\n",
    "    self.conv2   = tf.keras.layers.Conv2D(32, (3,3), activation='relu')\n",
    "    self.mp2     = tf.keras.layers.MaxPooling2D(2,2)\n",
    "\n",
    "    self.conv3   = tf.keras.layers.Conv2D(64, (3,3), activation='relu')\n",
    "    self.mp3     = tf.keras.layers.MaxPooling2D(2,2)\n",
    "\n",
    "    self.flatten = tf.keras.layers.Flatten()\n",
    "    self.fc      = tf.keras.layers.Dense(512, activation='relu')\n",
    "    self.out  = tf.keras.layers.Dense(1, activation='sigmoid')\n",
    "\n",
    "  def call(self, inputs):\n",
    "    x = self.conv1(inputs)\n",
    "    x = self.mp1(x)\n",
    "\n",
    "    x = self.conv2(x)\n",
    "    x = self.mp2(x)\n",
    "\n",
    "    x = self.conv3(inputs)\n",
    "    x = self.mp3(x)\n",
    "\n",
    "    x = self.flatten(x)\n",
    "    x = self.fc(x)\n",
    "    output = self.out(x)\n",
    "    return output"
   ]
  },
  {
   "cell_type": "code",
   "execution_count": 52,
   "metadata": {},
   "outputs": [],
   "source": [
    "from tensorflow.keras.optimizers import RMSprop"
   ]
  },
  {
   "cell_type": "code",
   "execution_count": 53,
   "metadata": {},
   "outputs": [],
   "source": [
    "import warnings\n",
    "warnings.filterwarnings(\"ignore\")\n",
    "\n",
    "model = MyModel()\n",
    "model.compile(\n",
    "              optimizer=RMSprop(lr=0.001),\n",
    "              loss='binary_crossentropy', metrics=['accuracy'])"
   ]
  },
  {
   "cell_type": "code",
   "execution_count": 107,
   "metadata": {},
   "outputs": [
    {
     "name": "stdout",
     "output_type": "stream",
     "text": [
      "INFO:tensorflow:Assets written to: senior-project\\model_weights\\assets\n"
     ]
    }
   ],
   "source": [
    "# save model\n",
    "# model.save('senior-project') floder->assesrt, variables->.index .data.... and .pb\n",
    "model.save_weights('senior-project\\model_weights', save_format='tf') # .checkpoint .index .data.......\n",
    "# model.save_weights('senior-project\\model_weights.h5') .h5"
   ]
  },
  {
   "cell_type": "markdown",
   "metadata": {},
   "source": [
    "# load model\n",
    "from tensorflow import keras\n",
    "loaded_model.load_weights('model_weights')"
   ]
  },
  {
   "cell_type": "code",
   "execution_count": 55,
   "metadata": {},
   "outputs": [
    {
     "name": "stdout",
     "output_type": "stream",
     "text": [
      "Epoch 1/10\n",
      "307/307 [==============================] - 1087s 4s/step - loss: 0.4602 - accuracy: 0.8215 - val_loss: 0.2953 - val_accuracy: 0.8766\n",
      "Epoch 2/10\n",
      "307/307 [==============================] - 1072s 3s/step - loss: 0.3535 - accuracy: 0.8441 - val_loss: 0.2663 - val_accuracy: 0.8658\n",
      "Epoch 3/10\n",
      "307/307 [==============================] - 1065s 3s/step - loss: 0.3340 - accuracy: 0.8560 - val_loss: 0.1798 - val_accuracy: 0.9146\n",
      "Epoch 4/10\n",
      "307/307 [==============================] - 1045s 3s/step - loss: 0.3129 - accuracy: 0.8619 - val_loss: 0.3824 - val_accuracy: 0.8571\n",
      "Epoch 5/10\n",
      "307/307 [==============================] - 1044s 3s/step - loss: 0.2936 - accuracy: 0.8729 - val_loss: 0.2564 - val_accuracy: 0.8733\n",
      "Epoch 6/10\n",
      "307/307 [==============================] - 1101s 4s/step - loss: 0.2754 - accuracy: 0.8733 - val_loss: 0.2402 - val_accuracy: 0.8880\n",
      "Epoch 7/10\n",
      "307/307 [==============================] - 1196s 4s/step - loss: 0.2770 - accuracy: 0.8789 - val_loss: 0.2002 - val_accuracy: 0.9090\n",
      "Epoch 8/10\n",
      "307/307 [==============================] - 1266s 4s/step - loss: 0.2595 - accuracy: 0.8888 - val_loss: 0.3970 - val_accuracy: 0.8390\n",
      "Epoch 9/10\n",
      "307/307 [==============================] - 1199s 4s/step - loss: 0.2539 - accuracy: 0.8894 - val_loss: 0.2721 - val_accuracy: 0.8751\n",
      "Epoch 10/10\n",
      "307/307 [==============================] - 1162s 4s/step - loss: 0.2468 - accuracy: 0.8962 - val_loss: 0.3399 - val_accuracy: 0.8496\n"
     ]
    }
   ],
   "source": [
    "callbacks = [\n",
    "             tf.keras.callbacks.ModelCheckpoint(\n",
    "                    'normalVSabnormal.',\n",
    "                    monitor='val_accuracy',\n",
    "                    verbose=0,\n",
    "                    save_best_only=True)\n",
    "            ]\n",
    "\n",
    "history = model.fit(\n",
    "                     train_generator,\n",
    "                     epochs = 10,\n",
    "                     callbacks = callbacks,\n",
    "                     validation_data = validation_generator,\n",
    "                     verbose = 1\n",
    "                   )"
   ]
  },
  {
   "cell_type": "code",
   "execution_count": 56,
   "metadata": {},
   "outputs": [
    {
     "data": {
      "image/png": "[encoded data removed]",
      "text/plain": [
       "<Figure size 720x1440 with 2 Axes>"
      ]
     },
     "metadata": {
      "needs_background": "light"
     },
     "output_type": "display_data"
    }
   ],
   "source": [
    "import matplotlib.pyplot as plt\n",
    "\n",
    "plt.figure(figsize=(10,20))\n",
    "\n",
    "plt.subplot(4,1,1)\n",
    "plt.plot(history.history['loss'])\n",
    "plt.plot(history.history['val_loss'])\n",
    "plt.title('training');\n",
    "\n",
    "plt.subplot(4,1,2)\n",
    "plt.plot(history.history['accuracy'])\n",
    "plt.plot(history.history['val_accuracy'])\n",
    "plt.title('validation');"
   ]
  },
  {
   "cell_type": "code",
   "execution_count": null,
   "metadata": {},
   "outputs": [],
   "source": []
  },
  {
   "cell_type": "code",
   "execution_count": null,
   "metadata": {},
   "outputs": [],
   "source": [
    "# Testing\n",
    "TEST_FILE = 30\n",
    "path_testing = r\"C:\\Users\\pasuk\\senior-project\\normal-vs-abnormal\\testing\"\n",
    "probabilities = model.predict_generator(test_generator, TEST_FILE)\n",
    "for index, probability in enumerate(probabilities):\n",
    "    image_path = path_test + \"/\" +test_generator.filenames[index]\n",
    "    img = mpimg.imread(image_path)\n",
    "    plt.imshow(img)\n",
    "    if probability > 0.5:\n",
    "        plt.title(\"%.2f\" % (probability[0]*100) + \"% abnormal\")\n",
    "    else:\n",
    "        plt.title(\"%.2f\" % ((1-probability[0])*100) + \"% normal\")\n",
    "    plt.show()"
   ]
  },
  {
   "cell_type": "code",
   "execution_count": 72,
   "metadata": {},
   "outputs": [],
   "source": [
    "import matplotlib.image as mpimg\n"
   ]
  },
  {
   "cell_type": "code",
   "execution_count": null,
   "metadata": {},
   "outputs": [],
   "source": []
  }
 ],
 "metadata": {
  "kernelspec": {
   "display_name": "Python 3",
   "language": "python",
   "name": "python3"
  },
  "language_info": {
   "codemirror_mode": {
    "name": "ipython",
    "version": 3
   },
   "file_extension": ".py",
   "mimetype": "text/x-python",
   "name": "python",
   "nbconvert_exporter": "python",
   "pygments_lexer": "ipython3",
   "version": "3.8.3"
  }
 },
 "nbformat": 4,
 "nbformat_minor": 4
}
